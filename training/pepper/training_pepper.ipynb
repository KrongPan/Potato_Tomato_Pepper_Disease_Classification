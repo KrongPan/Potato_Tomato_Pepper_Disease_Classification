{
 "cells": [
  {
   "cell_type": "code",
   "execution_count": 1,
   "metadata": {},
   "outputs": [],
   "source": [
    "import tensorflow as tf\n",
    "from tensorflow.keras import models, layers\n",
    "from tensorflow.python.client import device_lib\n",
    "import matplotlib.pyplot as plt"
   ]
  },
  {
   "cell_type": "code",
   "execution_count": 2,
   "metadata": {},
   "outputs": [],
   "source": [
    "IMAGE_SIZE = 256\n",
    "BATCH_SIZE = 32\n",
    "CHANNELS = 3\n",
    "EPOCHS = 50"
   ]
  },
  {
   "cell_type": "code",
   "execution_count": null,
   "metadata": {},
   "outputs": [],
   "source": []
  },
  {
   "cell_type": "code",
   "execution_count": 3,
   "metadata": {},
   "outputs": [
    {
     "name": "stdout",
     "output_type": "stream",
     "text": [
      "Found 2468 files belonging to 2 classes.\n"
     ]
    }
   ],
   "source": [
    "dataset = tf.keras.preprocessing.image_dataset_from_directory (\n",
    "    \"PlantVillage\",\n",
    "    shuffle=True,\n",
    "    image_size = (IMAGE_SIZE, IMAGE_SIZE),\n",
    "    batch_size = BATCH_SIZE\n",
    ")"
   ]
  },
  {
   "cell_type": "code",
   "execution_count": 4,
   "metadata": {},
   "outputs": [
    {
     "data": {
      "text/plain": [
       "['Pepper__bell___Bacterial_spot', 'Pepper__bell___healthy']"
      ]
     },
     "execution_count": 4,
     "metadata": {},
     "output_type": "execute_result"
    }
   ],
   "source": [
    "class_names = dataset.class_names\n",
    "class_names"
   ]
  },
  {
   "cell_type": "code",
   "execution_count": 5,
   "metadata": {},
   "outputs": [
    {
     "data": {
      "text/plain": [
       "62.400000000000006"
      ]
     },
     "execution_count": 5,
     "metadata": {},
     "output_type": "execute_result"
    }
   ],
   "source": [
    "train_size = 0.8\n",
    "len(dataset)*train_size"
   ]
  },
  {
   "cell_type": "code",
   "execution_count": 6,
   "metadata": {},
   "outputs": [],
   "source": [
    "train_ds = dataset.take(62)\n",
    "test_ds = dataset.skip(62)"
   ]
  },
  {
   "cell_type": "code",
   "execution_count": 7,
   "metadata": {},
   "outputs": [
    {
     "data": {
      "text/plain": [
       "7.800000000000001"
      ]
     },
     "execution_count": 7,
     "metadata": {},
     "output_type": "execute_result"
    }
   ],
   "source": [
    "val_size = 0.1\n",
    "len(dataset)*val_size"
   ]
  },
  {
   "cell_type": "code",
   "execution_count": 8,
   "metadata": {},
   "outputs": [],
   "source": [
    "val_ds = test_ds.take(7)\n",
    "test_ds = test_ds.skip(7)"
   ]
  },
  {
   "cell_type": "code",
   "execution_count": 9,
   "metadata": {},
   "outputs": [],
   "source": [
    "def get_dataset_partition_tf(ds, train_split = 0.8, val_split = 0.1, test_split = 0.1, shuffle = True, shuffle_size = 10000):\n",
    "    assert(train_split + test_split + val_split) == 1\n",
    "    \n",
    "    ds_size = len(ds)\n",
    "\n",
    "    if shuffle:\n",
    "        ds = ds.shuffle(shuffle_size, seed = 12)\n",
    "    \n",
    "    train_size = int(train_split * ds_size)\n",
    "    val_size = int(val_split * ds_size)\n",
    "\n",
    "    train_ds = ds.take(train_size)\n",
    "    val_ds = ds.skip(train_size).take(val_size)\n",
    "    test_ds = ds.skip(train_size).skip(val_size)\n",
    "    \n",
    "    return train_ds, val_ds, test_ds"
   ]
  },
  {
   "cell_type": "code",
   "execution_count": 10,
   "metadata": {},
   "outputs": [],
   "source": [
    "train_ds, val_ds, test_ds = get_dataset_partition_tf(dataset)"
   ]
  },
  {
   "cell_type": "code",
   "execution_count": 11,
   "metadata": {},
   "outputs": [],
   "source": [
    "train_de = train_ds.cache().shuffle(1000).prefetch(buffer_size = tf.data.experimental.AUTOTUNE)\n",
    "val_ds = val_ds.cache().shuffle(1000).prefetch(buffer_size = tf.data.experimental.AUTOTUNE)\n",
    "test_ds = test_ds.cache().shuffle(1000).prefetch(buffer_size = tf.data.experimental.AUTOTUNE)           "
   ]
  },
  {
   "cell_type": "code",
   "execution_count": 12,
   "metadata": {},
   "outputs": [],
   "source": [
    "resize_and_rescale = tf.keras.Sequential([\n",
    "    layers.experimental.preprocessing.Resizing(IMAGE_SIZE, IMAGE_SIZE),\n",
    "    layers.experimental.preprocessing.Rescaling(1.0/255)\n",
    "])"
   ]
  },
  {
   "cell_type": "code",
   "execution_count": 13,
   "metadata": {},
   "outputs": [],
   "source": [
    "data_augmentation = tf.keras.Sequential([\n",
    "    layers.experimental.preprocessing.RandomFlip(\"horizontal_and_vertical\"),\n",
    "    layers.experimental.preprocessing.RandomRotation(0.2),\n",
    "])"
   ]
  },
  {
   "cell_type": "code",
   "execution_count": 14,
   "metadata": {},
   "outputs": [],
   "source": [
    "input_shape = (BATCH_SIZE, IMAGE_SIZE, IMAGE_SIZE, CHANNELS)\n",
    "n_classes = 3\n",
    "model = models.Sequential([\n",
    "    resize_and_rescale,\n",
    "    \n",
    "    layers.Conv2D(32, kernel_size = (3,3), activation='relu', input_shape=input_shape),\n",
    "    layers.MaxPooling2D((2, 2)),\n",
    "    layers.Conv2D(64,  kernel_size = (3,3), activation='relu'),\n",
    "    layers.MaxPooling2D((2, 2)),\n",
    "    layers.Conv2D(64,  kernel_size = (3,3), activation='relu'),\n",
    "    layers.MaxPooling2D((2, 2)),\n",
    "    layers.Conv2D(64, (3, 3), activation='relu'),\n",
    "    layers.MaxPooling2D((2, 2)),\n",
    "    layers.Conv2D(64, (3, 3), activation='relu'),\n",
    "    layers.MaxPooling2D((2, 2)),\n",
    "    layers.Conv2D(64, (3, 3), activation='relu'),\n",
    "    layers.MaxPooling2D((2, 2)),\n",
    "    layers.Flatten(),\n",
    "    layers.Dense(64, activation='relu'),\n",
    "    layers.Dense(n_classes, activation='softmax'),            \n",
    "])\n",
    "model.build(input_shape=input_shape)"
   ]
  },
  {
   "cell_type": "code",
   "execution_count": 15,
   "metadata": {},
   "outputs": [
    {
     "name": "stdout",
     "output_type": "stream",
     "text": [
      "Model: \"sequential_2\"\n",
      "_________________________________________________________________\n",
      " Layer (type)                Output Shape              Param #   \n",
      "=================================================================\n",
      " sequential (Sequential)     (32, 256, 256, 3)         0         \n",
      "                                                                 \n",
      " conv2d (Conv2D)             (32, 254, 254, 32)        896       \n",
      "                                                                 \n",
      " max_pooling2d (MaxPooling2D  (32, 127, 127, 32)       0         \n",
      " )                                                               \n",
      "                                                                 \n",
      " conv2d_1 (Conv2D)           (32, 125, 125, 64)        18496     \n",
      "                                                                 \n",
      " max_pooling2d_1 (MaxPooling  (32, 62, 62, 64)         0         \n",
      " 2D)                                                             \n",
      "                                                                 \n",
      " conv2d_2 (Conv2D)           (32, 60, 60, 64)          36928     \n",
      "                                                                 \n",
      " max_pooling2d_2 (MaxPooling  (32, 30, 30, 64)         0         \n",
      " 2D)                                                             \n",
      "                                                                 \n",
      " conv2d_3 (Conv2D)           (32, 28, 28, 64)          36928     \n",
      "                                                                 \n",
      " max_pooling2d_3 (MaxPooling  (32, 14, 14, 64)         0         \n",
      " 2D)                                                             \n",
      "                                                                 \n",
      " conv2d_4 (Conv2D)           (32, 12, 12, 64)          36928     \n",
      "                                                                 \n",
      " max_pooling2d_4 (MaxPooling  (32, 6, 6, 64)           0         \n",
      " 2D)                                                             \n",
      "                                                                 \n",
      " conv2d_5 (Conv2D)           (32, 4, 4, 64)            36928     \n",
      "                                                                 \n",
      " max_pooling2d_5 (MaxPooling  (32, 2, 2, 64)           0         \n",
      " 2D)                                                             \n",
      "                                                                 \n",
      " flatten (Flatten)           (32, 256)                 0         \n",
      "                                                                 \n",
      " dense (Dense)               (32, 64)                  16448     \n",
      "                                                                 \n",
      " dense_1 (Dense)             (32, 3)                   195       \n",
      "                                                                 \n",
      "=================================================================\n",
      "Total params: 183,747\n",
      "Trainable params: 183,747\n",
      "Non-trainable params: 0\n",
      "_________________________________________________________________\n"
     ]
    }
   ],
   "source": [
    "model.summary()"
   ]
  },
  {
   "cell_type": "code",
   "execution_count": 16,
   "metadata": {},
   "outputs": [],
   "source": [
    "model.compile(\n",
    "    optimizer='adam',\n",
    "    loss=tf.keras.losses.SparseCategoricalCrossentropy(from_logits=False),\n",
    "    metrics=['accuracy']\n",
    ")"
   ]
  },
  {
   "cell_type": "code",
   "execution_count": 17,
   "metadata": {},
   "outputs": [
    {
     "name": "stdout",
     "output_type": "stream",
     "text": [
      "Epoch 1/50\n",
      "62/62 [==============================] - 13s 95ms/step - loss: 0.5910 - accuracy: 0.6890 - val_loss: 0.4322 - val_accuracy: 0.7857\n",
      "Epoch 2/50\n",
      "62/62 [==============================] - 5s 72ms/step - loss: 0.2591 - accuracy: 0.8988 - val_loss: 0.1032 - val_accuracy: 0.9643\n",
      "Epoch 3/50\n",
      "62/62 [==============================] - 5s 72ms/step - loss: 0.0892 - accuracy: 0.9758 - val_loss: 0.0509 - val_accuracy: 0.9777\n",
      "Epoch 4/50\n",
      "62/62 [==============================] - 5s 70ms/step - loss: 0.0745 - accuracy: 0.9796 - val_loss: 0.0545 - val_accuracy: 0.9777\n",
      "Epoch 5/50\n",
      "62/62 [==============================] - 5s 70ms/step - loss: 0.0476 - accuracy: 0.9831 - val_loss: 0.0248 - val_accuracy: 0.9911\n",
      "Epoch 6/50\n",
      "62/62 [==============================] - 5s 70ms/step - loss: 0.0447 - accuracy: 0.9888 - val_loss: 0.1033 - val_accuracy: 0.9554\n",
      "Epoch 7/50\n",
      "62/62 [==============================] - 5s 70ms/step - loss: 0.0446 - accuracy: 0.9872 - val_loss: 0.0069 - val_accuracy: 1.0000\n",
      "Epoch 8/50\n",
      "62/62 [==============================] - 5s 69ms/step - loss: 0.0142 - accuracy: 0.9964 - val_loss: 0.0083 - val_accuracy: 0.9911\n",
      "Epoch 9/50\n",
      "62/62 [==============================] - 5s 71ms/step - loss: 0.0098 - accuracy: 0.9974 - val_loss: 0.0044 - val_accuracy: 0.9955\n",
      "Epoch 10/50\n",
      "62/62 [==============================] - 5s 69ms/step - loss: 0.0073 - accuracy: 0.9985 - val_loss: 0.0048 - val_accuracy: 1.0000\n",
      "Epoch 11/50\n",
      "62/62 [==============================] - 5s 69ms/step - loss: 0.0111 - accuracy: 0.9959 - val_loss: 0.0020 - val_accuracy: 1.0000\n",
      "Epoch 12/50\n",
      "62/62 [==============================] - 5s 70ms/step - loss: 0.0047 - accuracy: 0.9985 - val_loss: 5.2529e-04 - val_accuracy: 1.0000\n",
      "Epoch 13/50\n",
      "62/62 [==============================] - 5s 70ms/step - loss: 7.6446e-04 - accuracy: 1.0000 - val_loss: 5.0936e-04 - val_accuracy: 1.0000\n",
      "Epoch 14/50\n",
      "62/62 [==============================] - 5s 70ms/step - loss: 2.5774e-04 - accuracy: 1.0000 - val_loss: 1.2752e-04 - val_accuracy: 1.0000\n",
      "Epoch 15/50\n",
      "62/62 [==============================] - 5s 70ms/step - loss: 2.0031e-04 - accuracy: 1.0000 - val_loss: 8.2978e-05 - val_accuracy: 1.0000\n",
      "Epoch 16/50\n",
      "62/62 [==============================] - 5s 70ms/step - loss: 6.7237e-05 - accuracy: 1.0000 - val_loss: 5.8513e-05 - val_accuracy: 1.0000\n",
      "Epoch 17/50\n",
      "62/62 [==============================] - 5s 70ms/step - loss: 7.9719e-05 - accuracy: 1.0000 - val_loss: 4.6207e-05 - val_accuracy: 1.0000\n",
      "Epoch 18/50\n",
      "62/62 [==============================] - 5s 70ms/step - loss: 6.9169e-05 - accuracy: 1.0000 - val_loss: 4.1956e-05 - val_accuracy: 1.0000\n",
      "Epoch 19/50\n",
      "62/62 [==============================] - 5s 70ms/step - loss: 4.8504e-05 - accuracy: 1.0000 - val_loss: 3.3615e-05 - val_accuracy: 1.0000\n",
      "Epoch 20/50\n",
      "62/62 [==============================] - 5s 70ms/step - loss: 4.7445e-05 - accuracy: 1.0000 - val_loss: 2.8326e-05 - val_accuracy: 1.0000\n",
      "Epoch 21/50\n",
      "62/62 [==============================] - 5s 71ms/step - loss: 3.5158e-05 - accuracy: 1.0000 - val_loss: 2.7529e-05 - val_accuracy: 1.0000\n",
      "Epoch 22/50\n",
      "62/62 [==============================] - 5s 70ms/step - loss: 3.4571e-05 - accuracy: 1.0000 - val_loss: 2.2863e-05 - val_accuracy: 1.0000\n",
      "Epoch 23/50\n",
      "62/62 [==============================] - 5s 70ms/step - loss: 2.8361e-05 - accuracy: 1.0000 - val_loss: 2.5375e-05 - val_accuracy: 1.0000\n",
      "Epoch 24/50\n",
      "62/62 [==============================] - 5s 70ms/step - loss: 2.3241e-05 - accuracy: 1.0000 - val_loss: 2.3034e-05 - val_accuracy: 1.0000\n",
      "Epoch 25/50\n",
      "62/62 [==============================] - 5s 70ms/step - loss: 2.0474e-05 - accuracy: 1.0000 - val_loss: 2.2235e-05 - val_accuracy: 1.0000\n",
      "Epoch 26/50\n",
      "62/62 [==============================] - 5s 70ms/step - loss: 1.8130e-05 - accuracy: 1.0000 - val_loss: 1.8585e-05 - val_accuracy: 1.0000\n",
      "Epoch 27/50\n",
      "62/62 [==============================] - 5s 70ms/step - loss: 1.3224e-05 - accuracy: 1.0000 - val_loss: 1.5447e-05 - val_accuracy: 1.0000\n",
      "Epoch 28/50\n",
      "62/62 [==============================] - 5s 71ms/step - loss: 1.7045e-05 - accuracy: 1.0000 - val_loss: 1.1962e-05 - val_accuracy: 1.0000\n",
      "Epoch 29/50\n",
      "62/62 [==============================] - 5s 70ms/step - loss: 1.3998e-05 - accuracy: 1.0000 - val_loss: 1.1762e-05 - val_accuracy: 1.0000\n",
      "Epoch 30/50\n",
      "62/62 [==============================] - 5s 70ms/step - loss: 1.0553e-05 - accuracy: 1.0000 - val_loss: 9.9357e-06 - val_accuracy: 1.0000\n",
      "Epoch 31/50\n",
      "62/62 [==============================] - 5s 71ms/step - loss: 1.1381e-05 - accuracy: 1.0000 - val_loss: 9.4229e-06 - val_accuracy: 1.0000\n",
      "Epoch 32/50\n",
      "62/62 [==============================] - 5s 70ms/step - loss: 9.9988e-06 - accuracy: 1.0000 - val_loss: 8.9254e-06 - val_accuracy: 1.0000\n",
      "Epoch 33/50\n",
      "62/62 [==============================] - 5s 70ms/step - loss: 9.0336e-06 - accuracy: 1.0000 - val_loss: 8.3570e-06 - val_accuracy: 1.0000\n",
      "Epoch 34/50\n",
      "62/62 [==============================] - 5s 70ms/step - loss: 6.9430e-06 - accuracy: 1.0000 - val_loss: 7.7383e-06 - val_accuracy: 1.0000\n",
      "Epoch 35/50\n",
      "62/62 [==============================] - 5s 70ms/step - loss: 9.2207e-06 - accuracy: 1.0000 - val_loss: 6.9547e-06 - val_accuracy: 1.0000\n",
      "Epoch 36/50\n",
      "62/62 [==============================] - 5s 70ms/step - loss: 5.8134e-06 - accuracy: 1.0000 - val_loss: 6.0590e-06 - val_accuracy: 1.0000\n",
      "Epoch 37/50\n",
      "62/62 [==============================] - 5s 70ms/step - loss: 6.8116e-06 - accuracy: 1.0000 - val_loss: 6.0174e-06 - val_accuracy: 1.0000\n",
      "Epoch 38/50\n",
      "62/62 [==============================] - 5s 70ms/step - loss: 7.1274e-06 - accuracy: 1.0000 - val_loss: 5.3120e-06 - val_accuracy: 1.0000\n",
      "Epoch 39/50\n",
      "62/62 [==============================] - 5s 71ms/step - loss: 4.8407e-06 - accuracy: 1.0000 - val_loss: 4.9932e-06 - val_accuracy: 1.0000\n",
      "Epoch 40/50\n",
      "62/62 [==============================] - 5s 70ms/step - loss: 5.0017e-06 - accuracy: 1.0000 - val_loss: 4.8878e-06 - val_accuracy: 1.0000\n",
      "Epoch 41/50\n",
      "62/62 [==============================] - 5s 71ms/step - loss: 4.4901e-06 - accuracy: 1.0000 - val_loss: 4.1595e-06 - val_accuracy: 1.0000\n",
      "Epoch 42/50\n",
      "62/62 [==============================] - 5s 70ms/step - loss: 3.7065e-06 - accuracy: 1.0000 - val_loss: 4.3403e-06 - val_accuracy: 1.0000\n",
      "Epoch 43/50\n",
      "62/62 [==============================] - 5s 71ms/step - loss: 4.3429e-06 - accuracy: 1.0000 - val_loss: 3.6940e-06 - val_accuracy: 1.0000\n",
      "Epoch 44/50\n",
      "62/62 [==============================] - 5s 71ms/step - loss: 3.8730e-06 - accuracy: 1.0000 - val_loss: 3.3221e-06 - val_accuracy: 1.0000\n",
      "Epoch 45/50\n",
      "62/62 [==============================] - 5s 70ms/step - loss: 2.7256e-06 - accuracy: 1.0000 - val_loss: 2.9465e-06 - val_accuracy: 1.0000\n",
      "Epoch 46/50\n",
      "62/62 [==============================] - 5s 70ms/step - loss: 3.5976e-06 - accuracy: 1.0000 - val_loss: 3.0119e-06 - val_accuracy: 1.0000\n",
      "Epoch 47/50\n",
      "62/62 [==============================] - 5s 73ms/step - loss: 3.1375e-06 - accuracy: 1.0000 - val_loss: 2.5623e-06 - val_accuracy: 1.0000\n",
      "Epoch 48/50\n",
      "62/62 [==============================] - 5s 71ms/step - loss: 3.0039e-06 - accuracy: 1.0000 - val_loss: 2.4277e-06 - val_accuracy: 1.0000\n",
      "Epoch 49/50\n",
      "62/62 [==============================] - 5s 71ms/step - loss: 2.4036e-06 - accuracy: 1.0000 - val_loss: 2.1217e-06 - val_accuracy: 1.0000\n",
      "Epoch 50/50\n",
      "62/62 [==============================] - 5s 70ms/step - loss: 2.7609e-06 - accuracy: 1.0000 - val_loss: 2.0530e-06 - val_accuracy: 1.0000\n"
     ]
    }
   ],
   "source": [
    "history = model.fit(\n",
    "    train_ds,\n",
    "    batch_size=BATCH_SIZE,\n",
    "    validation_data=val_ds,\n",
    "    verbose=1,\n",
    "    epochs=50,\n",
    ")"
   ]
  },
  {
   "cell_type": "code",
   "execution_count": 18,
   "metadata": {},
   "outputs": [],
   "source": [
    "acc = history.history['accuracy']\n",
    "val_acc = history.history['val_accuracy']\n",
    "\n",
    "loss = history.history['loss']\n",
    "val_loss = history.history['val_loss']"
   ]
  },
  {
   "cell_type": "code",
   "execution_count": 19,
   "metadata": {},
   "outputs": [
    {
     "data": {
      "image/png": "[encoded data removed]",
      "text/plain": [
       "<Figure size 800x800 with 2 Axes>"
      ]
     },
     "metadata": {},
     "output_type": "display_data"
    }
   ],
   "source": [
    "plt.figure(figsize=(8, 8))\n",
    "plt.subplot(1, 2, 1)\n",
    "plt.plot(range(EPOCHS), acc, label='Training Accuracy')\n",
    "plt.plot(range(EPOCHS), val_acc, label='Validation Accuracy')\n",
    "plt.legend(loc='lower right')\n",
    "plt.title('Training and Validation Accuracy')\n",
    "\n",
    "plt.subplot(1, 2, 2)\n",
    "plt.plot(range(EPOCHS), loss, label='Training Loss')\n",
    "plt.plot(range(EPOCHS), val_loss, label='Validation Loss')\n",
    "plt.legend(loc='upper right')\n",
    "plt.title('Training and Validation Loss')\n",
    "plt.show()"
   ]
  },
  {
   "cell_type": "code",
   "execution_count": 23,
   "metadata": {},
   "outputs": [
    {
     "name": "stderr",
     "output_type": "stream",
     "text": [
      "WARNING:absl:Found untraced functions such as _jit_compiled_convolution_op, _jit_compiled_convolution_op, _jit_compiled_convolution_op, _jit_compiled_convolution_op, _jit_compiled_convolution_op while saving (showing 5 of 6). These functions will not be directly callable after loading.\n"
     ]
    },
    {
     "name": "stdout",
     "output_type": "stream",
     "text": [
      "INFO:tensorflow:Assets written to: ../../models/tomato\\assets\n"
     ]
    },
    {
     "name": "stderr",
     "output_type": "stream",
     "text": [
      "INFO:tensorflow:Assets written to: ../../models/tomato\\assets\n"
     ]
    }
   ],
   "source": [
    "import os\n",
    "model.save(f\"../../models/pepper\")"
   ]
  },
  {
   "cell_type": "code",
   "execution_count": null,
   "metadata": {},
   "outputs": [],
   "source": []
  }
 ],
 "metadata": {
  "kernelspec": {
   "display_name": "gpu_env",
   "language": "python",
   "name": "python3"
  },
  "language_info": {
   "codemirror_mode": {
    "name": "ipython",
    "version": 3
   },
   "file_extension": ".py",
   "mimetype": "text/x-python",
   "name": "python",
   "nbconvert_exporter": "python",
   "pygments_lexer": "ipython3",
   "version": "3.7.16"
  }
 },
 "nbformat": 4,
 "nbformat_minor": 2
}
